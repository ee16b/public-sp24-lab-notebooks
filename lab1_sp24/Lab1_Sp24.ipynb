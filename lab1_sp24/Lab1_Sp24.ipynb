{
 "cells": [
  {
   "cell_type": "markdown",
   "metadata": {},
   "source": [
    "\n",
    "# Lab 1: Introduction to S1XT33N\n",
    "### EECS 16B: Designing Information Devices and Systems II, Spring 2024\n",
    "\n",
    "Updated by Junha Kim, Ryan Ma, Venkata Alapati (2023, 2024)\n",
    "\n",
    "junhak@berkeley.edu, ryan.ma3011@berkeley.edu, venkata.alapati@berkeley.edu\n",
    "\n",
    "Updated by Megan Zeng (2022, 2023)\n",
    "\n",
    "zengmegan@berkeley.edu\n",
    "\n",
    "Updated by Kaitlyn Chan, Steven Lu (2021)\n",
    "\n",
    "kaitlynjchan@berkeley.edu, stevenl@berkeley.edu\n",
    "\n",
    "Updated by Rafael Calleja (2021)\n",
    "\n",
    "rafael.calleja@berkeley.edu\n",
    "\n",
    "Updated by Miki Lustig (2020)\n",
    "\n",
    "-----"
   ]
  },
  {
   "cell_type": "markdown",
   "metadata": {},
   "source": [
    "<a id='part0'></a>\n",
    "## <span style=\"color:#075a04\">NOTE: All questions in green are required for checkoff! </span>\n",
    "\n"
   ]
  },
  {
   "cell_type": "markdown",
   "metadata": {},
   "source": [
    "<a id='part0'></a>\n",
    "# <span style=\"color:navy\">Part 0: Introduction </span>\n",
    "-----"
   ]
  },
  {
   "cell_type": "markdown",
   "metadata": {},
   "source": [
    "Welcome to EECS 16B labs! This semester, we will be building S1XT33N, a robot car that listens to voice commands and then drives on the command's pre-defined path. Before we dive into it, we will first explore the various lab equipment crucial to building/debugging the car and circuits in general, then put together an op-amp circuit to practice breadboarding and debugging.\n",
    "\n",
    "## Materials:\n",
    "- [Lab Note](https://links.eecs16b.org/lab0-note)\n",
    "\n",
    "- [Debugging guide](https://drive.google.com/file/d/1w6YyI7xa4pZ7gbYBMoy-n5OXZhE6lgiO/view?usp=sharing)\n",
    "\n",
    "Review the lab note and debugging guide. The lab note provides a technical review of the concepts covered in lab as well as theoretical connections. **You should read the lab notes before your lab section.** They serve as a review and will be helpful as a reference during section. The debugging guide is not a fully comprehensive list of all the things you can do, but it provides useful tips and guidelines for debugging your circuit and quick checklists for your lab equipment setup."
   ]
  },
  {
   "cell_type": "markdown",
   "metadata": {},
   "source": [
    "## Pre-Lab\n",
    "\n",
    "Complete the pre-lab assignment before attempting to do the lab. Submit your answers to the Gradescope assignment \"Pre-Lab 1: Introduction to S1XT33N.\" Pre-Lab 1 is due on **Monday, January 22nd** at 11:59pm. No late submissions will be accepted."
   ]
  },
  {
   "cell_type": "markdown",
   "metadata": {},
   "source": [
    "## Table of Contents\n",
    "\n",
    "* [Part 1: Equipment Training and Review](#part1)\n",
    "* [Part 2: Physical Op-Amp Circuit](#part2)\n",
    "* [Part 3: S1XT33N&#8482; Car Assembly Instructions](#part3)\n",
    "* [Part 4: Checkoff](#part4)\n",
    "* [Part 5: Midterm Lab Report Questions](#part5)\n"
   ]
  },
  {
   "cell_type": "markdown",
   "metadata": {},
   "source": [
    "<a id='part1'></a>\n",
    "# <span style=\"color:navy\">Part 1: Equipment Training and Review</span>\n",
    "-----"
   ]
  },
  {
   "cell_type": "markdown",
   "metadata": {},
   "source": [
    "In this part, you will gain familiarity with the function generator, oscilloscope, power supply, and digital multimeter through the video tutorials as well as the provided exercises.\n",
    "\n",
    "## Materials:\n",
    "- [Lab equipment video tutorials](https://www.youtube.com/playlist?list=PLQ1OVCqw6RUMX2JzPw2G15s5mZovuav8-)\n",
    "\n",
    "- Oscilloscope cable\n",
    "\n",
    "- Function generator cable\n",
    "\n",
    "- Power supply cables\n",
    "\n",
    "- Multimeter cables\n",
    "\n",
    "- Breadboard\n",
    "\n",
    "- 2 resistors (in the $1k-10k\\Omega$ range)\n",
    "\n",
    "- Wires\n",
    "\n",
    "- (Headphones)"
   ]
  },
  {
   "cell_type": "markdown",
   "metadata": {},
   "source": [
    "### 1.1. Function Generator and Oscilloscope\n",
    "\n",
    "- Watch the [function generator](https://www.youtube.com/watch?v=GJRssGzgoXI&list=PLQ1OVCqw6RUMX2JzPw2G15s5mZovuav8-&index=3) and [oscilloscope](https://www.youtube.com/watch?v=Cw9QGrS6JZM&list=PLQ1OVCqw6RUMX2JzPw2G15s5mZovuav8-&index=1) video tutorials.\n",
    "|Function Generator|\n",
    "|:-----:|\n",
    "|<img width=\"600px\" src=\"images/function_generator_labelled.png\">|\n",
    "\n",
    "|Oscilloscope|\n",
    "|:-----:|\n",
    "|<img width=\"600px\" src=\"images/oscilloscope_labelled.png\">|\n",
    "Note: the above images are intended as a general reference and do not necessarily reflect the expected measurements/parameters.\n",
    "\n",
    "- On the function generator, set the output load to **High-Z**, then generate a **sine** wave with:\n",
    "    - **10 kHz** Frequency\n",
    "    - **5 Vpp**\n",
    "        - Peak-to-peak voltage (Vpp) means the difference between the maximum and minimum voltage values in the sine wave.\n",
    "    - **0 V** Offset and $0^{\\circ}$ Phase\n",
    "    - <span style=\"color:#ba190f\">*Remember to set the function generator's output load to \"High Z\"*.</span> \n",
    "    You can do this by pressing (1) under Channel Setup, and then selecting \"Output Load\". For some of the oscilloscopes, you might have to set the Vpp and offset again after changing to High Z. If you forget to do this first, the values will double and you will have to adjust them again!\n",
    "\n",
    "- Connect the **red** lead of the function generator cable to any row on the breadboard and the **black** lead to the negative rail. Turn on the waveform output.\n",
    "\n",
    "- Set up the oscilloscope, then probe the function generator output by connecting the **gray probe** to the same row as the **red** lead of the function generator cable. Make sure to ground your oscilloscope probe's **black** lead (connect it to the same negative rail as the **black** lead of the function generater cable).\n",
    "\n",
    "- Adjust the resolution until you can only see **roughly 4 periods** of the sinusoid. It should also be centered and take up around **4 vertical divisions** on the screen without getting cut off. Make sure to **trigger** the sinusoid so that it's stable and doesn't jitter around on the screen!\n",
    "\n",
    "- On the oscilloscope, add measurements for **frequency**, **max**, **min**, and **peak to peak voltage**. Do these measurements and the waveform itself reflect the parameters set for the function generator?"
   ]
  },
  {
   "cell_type": "markdown",
   "metadata": {},
   "source": [
    "### 1.2. Power Supply and Digital Multimeter (DMM)\n",
    "\n",
    "- Watch the [power supply](https://www.youtube.com/watch?v=diDnF54Hgb8&list=PLQ1OVCqw6RUMX2JzPw2G15s5mZovuav8-&index=2) and [digital multimeter (DMM)](https://www.youtube.com/watch?v=fcABEUQyXrQ&list=PLQ1OVCqw6RUMX2JzPw2G15s5mZovuav8-&index=4) video tutorials.\n",
    "\n",
    "|Power Supply|\n",
    "|:-----:|\n",
    "|<img width=\"600px\" src=\"images/power_supply_labelled.png\">|\n",
    "\n",
    "|Digital Multimeter|\n",
    "|:-----:|\n",
    "|<img width=\"600px\" src=\"images/multimeter_labelled.png\">|\n",
    "\n",
    "Note: the above images are intended as a general reference and do not necessarily reflect the expected measurements/parameters.\n",
    "\n",
    "- On the power supply, set the voltage and current limits to **5 V** and **100 mA** respectively.\n",
    "\n",
    "- Connect the ground lead of the power supply to the same ground as the function generator and the positive lead to the positive rail.\n",
    "\n",
    "- Construct the following voltage divider circuit using two resistors in the $1k-10k\\Omega$ range. Record the labelled values of $R_1$ and $R_2$ as well as what you expect the output $V_{out}$ to be.\n",
    "\n",
    "<img style=\"width: 300px\" src=\"images/divider_5V.png\">\n",
    "\n",
    "- Turn on the power supply. Set up the multimeter to measure DC voltages, then measure the voltage at $V_{out}$ with respect to ground. Is the value around what you'd expect?"
   ]
  },
  {
   "cell_type": "markdown",
   "metadata": {},
   "source": [
    "### Now you're done with equipment training!\n",
    "\n",
    "You can reference these [videos](https://www.youtube.com/playlist?list=PLQ1OVCqw6RUMX2JzPw2G15s5mZovuav8-) anytime you're unsure how to use a particular function of any of the lab equipment."
   ]
  },
  {
   "cell_type": "markdown",
   "metadata": {},
   "source": [
    "<a id='part2'></a>\n",
    "# <span style=\"color:navy\">Part 2: Physical Op-Amp Circuit</span>\n",
    "-----"
   ]
  },
  {
   "cell_type": "markdown",
   "metadata": {},
   "source": [
    "Now you will build an op-amp circuit, drive the circuit with the function generator, supply voltages using the DC power supply, measure the voltage of input and output signals using the oscilloscope, and see the LEDs blink. \n",
    "\n",
    "## Materials:\n",
    "- [Intro to circuits playlist](https://www.youtube.com/playlist?list=PLhIxXDRJ9_VqxwlybfFHzihu1e3-Ll433)\n",
    "- Breadboard\n",
    "- Wires\n",
    "- Op-amp LMC6482AIN [data sheet](https://www.ti.com/lit/ds/symlink/lmc6482.pdf?ts=1692770446681&ref_url=https%253A%252F%252F)\n",
    "- 2x oscilloscope probe\n",
    "- Function generator probe\n",
    "- Power supply leads\n",
    "- 2x LEDs (any color) \n",
    "    - long leg -> Anode (+)\n",
    "    - short leg -> Cathode (-)\n",
    "- 4x 1 $k\\Omega$ resistor (brown, black, red, gold)\n",
    "- 2x 20 $k\\Omega$ resistor (red, black, orange, gold)\n",
    "\n",
    "### Breadboarding Requirements\n",
    "\n",
    "Clean & planar circuits are now **a requirement to get debugging help from staff and to get checked off.** An example of a planar vs nonplanar circuit can be seen below.\n",
    "\n",
    "|Planar Circuit|Non-Planar Circuit|\n",
    "|:-----:|:-----:|\n",
    "|<img width=\"400px\" height=\"300px\" src=\"images/neatbb.png\">|<img width=\"400px\" height=\"300px\" src=\"images/messybb.png\">|\n",
    "\n",
    "Creating planar circuits will not only help staff assist you better but will also allow you to more easy identify errors in your circuit, simplify debugging, and make your S1XT33N look absolutely stunning! Some tips to help you create planar circuits are:\n",
    "\n",
    "- **Plan Your Circuit:** Before you start placing components on the breadboard, plan your circuit on paper or using circuit design software. This will help you understand the layout and connections needed.\n",
    "\n",
    "- **Use Color-Coding:** Use colored wires or labels to differentiate between power, ground, and signal wires. This makes it easier to trace connections and troubleshoot issues.\n",
    "\n",
    "- **Cut and Bend Leads/Wires Properly:** Trim component leads (legs) and wires to an appropriate length, leaving enough to fit securely into the breadboard. Bend the leads at a right angle to ensure a snug fit.\n",
    "\n",
    "- **Test as You Go:** Don't wait until your entire circuit is assembled to test it. Test sections of the circuit as you add components to catch and fix problems early.\n",
    "\n",
    "### Circuit Guidelines\n",
    "- Make sure you use consistent colors for ground, power voltages, etc. Black is usually reserved for GND, and red for power.\n",
    "- In general, it's better to have shorter wires, so that it's easier to follow and debug. Feel free to use the wire strippers to adjust the wire lengths.\n",
    "- The + and - rails are reserved for power and GND, respectively. Avoid connecting any other signals to those rails. You will be connecting the power supply leads to your breadboard rails.\n",
    "- **Make sure you connect all of your grounds**, including the lab equipments' grounds, to the negative (-) rails on your breadboards. Add a wire between the two - rails so that everything in your circuit references the same ground. Only connect your + rails when you want them to carry the same voltage.\n",
    "\n",
    "#### LEDs\n",
    "- **LEDs have polarity, meaning the direction you plug it into the circuit matters**. If you reverse the direction of the LED, the current will not be able to flow and the LED will not light up.\n",
    "- The anode (+) is the longer/crooked leg of the LED, while the cathode (-) is the shorter/straight leg of the LED.\n",
    "- **Make sure you connect the LED to the correct voltage source**. If you connect the LED to a voltage source that is too high, the LED will burn out and break. If you connect the LED to a voltage source that is too low, the LED will not light up.\n",
    "\n",
    "<img style=\"width: 300px\" src=\"images/diode.png\">\n",
    "\n",
    "For further guidelines on breadboarding and debugging, refer to the [debugging guide](https://drive.google.com/file/d/1vDHFBkp0fljjbVocPHC06VmMty2lqHTo/view?usp=sharing) or the [intro to circuits playlist](https://www.youtube.com/playlist?list=PLhIxXDRJ9_VqxwlybfFHzihu1e3-Ll433).\n",
    "\n",
    "### Voltage Gain\n",
    "\n",
    "The __Voltage Amplification ($A_v$)__ or __Gain__ of a voltage amplifier is given by:\n",
    "\n",
    "$$A_v = \\frac{\\Delta V_{out}}{\\Delta V_{in}} = \\frac{V_{out}|_{V_{in}=V_{in,max}}-V_{out}|_{V_{in}=V_{in,min}}}{V_{in,max}-V_{in,min}}$$\n",
    "\n",
    "$A_v$ is a ratio of how much bigger the output is compared to the input, and so has no units. Note that if the input is inverted, the gain is a __negative__ number.\n",
    "\n",
    "__Note__: $V_{out}|_x$ means $V_{out}$ given the condition $x$. For example, $V_{out}|_{V_{in}=V_{in,max}}$ means the output voltage of the op-amp when the input voltage is at its maximum.\n",
    "\n",
    "\n",
    "### 2.1. Build the circuit below.\n",
    "\n",
    "<center>\n",
    "<img width='500px'\n",
    "src=\"images/blink_inverting_circuit_diagram_both.png\">\n",
    "</center>\n",
    "\n",
    "**NOTE:** The op-amps in your circuit kit are the 8-legged black components with a half-circle on one side. The pins (legs) correspond to the following nodes:\n",
    "\n",
    "|LMC6482:|Pinout:|\n",
    "|:-----:|:---------------:|\n",
    "|<img width=\"300px\" src=\"images/LMC6482.png\">|<img width=\"400px\" src=\"images/op_amp_pinout.png\">| \n",
    "\n",
    "As there are 2 op-amps within a single LMC6482 chip, you can use either one (A or B).\n",
    "\n",
    "### 2.2. Test your amplifier.\n",
    "- On the function generator, set the output load to **High-Z**, and generate a sinusoidal signal with:\n",
    "  - 0.25 Hz Frequency\n",
    "  - 5 Vpp\n",
    "  - 2.5 V offset (The sinusoid will be centered around this offset.) - **think about what this means for the min and max voltages.**\n",
    "- Power your op-amp by connecting the correct DC voltages to $V_{\\text{dd}}$ and $V_{\\text{ss}}$.\n",
    "    - **Sanity Check Question:** <span style=\"color:#ba190f\">**What should $V_{\\text{dd}}$ and $V_{\\text{ss}}$ be?**</span> Hint: what is the range of the input sinusoidal signal? What is our gain? What will the range of the output signal be? Use your answers to these 3 questions to determine what voltages to connect to $V_{\\text{dd}}$ and $V_{\\text{ss}}$.\n",
    "- Connect the output of your function generator (the red lead) to $V_{in}$ and the ground (the black lead) to your ground rail.\n",
    "- Use your power supply to supply the correct voltage for your op amps (Vdd and Vss). Don't forget to set your voltage limit properly, and **make sure you set the current limit to 0.1A!**\n",
    "- Use the oscilloscope to probe $V_{in}$ and $V_{out}$ simultaneously. **DO NOT insert the oscilloscope probe directly into the breadboard** - make sure you use the hook attachment connected to a wire, and probe with the wire. Make sure that the black lead of the oscilloscope probe is connected to your ground rail as well!\n",
    "\n",
    "### KEEP this circuit on your breadboard!\n",
    "- Show the circuit and probe its input and output on the oscilloscope during checkoff."
   ]
  },
  {
   "cell_type": "markdown",
   "metadata": {},
   "source": [
    "### 2.3. Questions\n",
    "\n",
    "**<span style=\"color:#075a04\"> 1. What voltage is the non-inverting input ($V_+$) terminal of the op-amp connected to? Why do we need it to be connected to this voltage value?</span>**\n",
    "\n",
    "< _YOUR ANSWER HERE_ >"
   ]
  },
  {
   "cell_type": "markdown",
   "metadata": {},
   "source": [
    "**<span style=\"color:#075a04\"> 2. What does the circuit do to the input signal? Hint: what is the expected behavior of LED1 and LED2 for a sinusoidal input?</span>**\n",
    "\n",
    "< _YOUR ANSWER HERE_ >"
   ]
  },
  {
   "cell_type": "markdown",
   "metadata": {},
   "source": [
    "**<span style=\"color:#075a04\"> 3. What is the measured gain of the circuit? (Hint: You should use the above gain formula with oscilloscope measurements to calculate the gain.)</span> <span style=\"color:red\"> You will need this for the midterm lab report!</span>**\n",
    "    \n",
    "< _YOUR ANSWER HERE_ >"
   ]
  },
  {
   "cell_type": "markdown",
   "metadata": {},
   "source": [
    "**<span style=\"color:#075a04\"> 4. How can you change the gain?</span>**\n",
    "\n",
    "< _YOUR ANSWER HERE_ >"
   ]
  },
  {
   "cell_type": "markdown",
   "metadata": {},
   "source": [
    "#### <span style=\"color:#075a04\"> 5. What happens when you (theoretically --- please don't physically try this):\n",
    "\n",
    "**<span style=\"color:#075a04\"> a) Flip the polarity (i.e. swap the inputs of the inverting and noninverting input terminals of the op-amp)?</span>**\n",
    "\n",
    "< _YOUR ANSWER HERE_ >"
   ]
  },
  {
   "cell_type": "markdown",
   "metadata": {},
   "source": [
    "**<span style=\"color:#075a04\"> b) Increase Rf? Hint: What limits the maximum amplitude the circuit can output?</span>**\n",
    "\n",
    "< _YOUR ANSWER HERE_ >"
   ]
  },
  {
   "cell_type": "markdown",
   "metadata": {},
   "source": [
    "**<span style=\"color:#075a04\"> c) What happens if the op-amp's VSS = 0.5 V?</span>**\n",
    "\n",
    "< _YOUR ANSWER HERE_ >"
   ]
  },
  {
   "cell_type": "markdown",
   "metadata": {},
   "source": [
    "**<span style=\"color:#075a04\"> d) Keeping $\\frac{R_f}{R_{in}}$ constant, do the resistors' values affect circuit output / performance (ex: $\\frac{20k \\Omega}{20k\\Omega}$ equivalent to $\\frac{100\\Omega}{100\\Omega}$)? Is it better to use large or small resistor values, and why?</span>**\n",
    "\n",
    "< _YOUR ANSWER HERE_ >"
   ]
  },
  {
   "cell_type": "markdown",
   "metadata": {},
   "source": [
    "<a id='part4'></a>\n",
    "# <span style=\"color:#ba190f\">CHECKOFF </span> \n",
    "-----"
   ]
  },
  {
   "cell_type": "markdown",
   "metadata": {},
   "source": [
    "### For Checkoff:\n",
    "<a id='part4'></a>\n",
    "- Show both the input and output signals on your oscilloscope at the same time.\n",
    "- Show both LEDs when connected to the proper input.\n",
    "- Be prepared to answer some questions.\n",
    "\n",
    "**After checkoff, please:**\n",
    "\n",
    "- Dismantle the op-amp circuit.\n",
    "- Turn off all lab equipment\n",
    "- Clean up your station!!\n",
    "- Store all your electrical components in a neat and organized manner.\n",
    "- Make sure that all components that you received in your lab kit are stored safely for use in future labs."
   ]
  },
  {
   "cell_type": "markdown",
   "metadata": {},
   "source": [
    "### Save this notebook somewhere you can access it! \n",
    "\n",
    "We recommend making a shared Google Drive with your lab partner, since GitHub can be annoying with Jupyter notebooks. You will **NOT** need this circuit for next week's lab, but it's good to start saving your Jupyter notebooks now so that you will always have access to your lab work.\n",
    "\n",
    "**The lab computers may be wiped at any moment, so it is very important to have backups.**\n",
    "\n",
    "If you are using Datahub, the notebook will automatically be saved to your datahub account."
   ]
  },
  {
   "cell_type": "markdown",
   "metadata": {},
   "source": [
    "<a id='part3'></a>\n",
    "# <span style=\"color:navy\">Part 3: Midterm Lab Report Questions</span>\n",
    "-----"
   ]
  },
  {
   "cell_type": "markdown",
   "metadata": {},
   "source": [
    "The midterm lab report tests your understanding of EECS 16B Labs 1-5, with an emphasis on conceptual and\n",
    "analytical understanding. It also allows you to look at these labs from a bigger picture and reflect on your design\n",
    "process and choices. We will release the lab report questions relevant to each lab at the bottom of the corresponding Jupyter notebook. All of the midterm lab report questions will be compiled together [here](links.eecs16b.org/midtermlabreport) and updated as new questions are released. Tentatively, the entire midterm lab report will be due on **Monday, March 3rd**."
   ]
  },
  {
   "cell_type": "markdown",
   "metadata": {},
   "source": [
    "## Questions\n",
    "\n",
    "**Summary**\n",
    "\n",
    "- Give a summary in your own words of what you did in this lab. Possible details to include: overview of the lab’s objective, new components used, issues you encountered, etc. Details NOT to include: how you left your car at home, forgot to enable high-Z mode on your function generator, etc.\n",
    "\n",
    "**1. Assume that the following equipment corresponds to what is available in lab.**\n",
    "- a. Describe a situation where you would use a digital multimeter (DMM) instead of an oscilloscope and vice versa.\n",
    "- b. Describe a situation where you would use a power supply instead of a function generator and vice versa.\n",
    "\n",
    "**2. Given an op-amp amplifier circuit with gain $A_v$ (can be positive or negative) and an input sinusoidal wave with DC offset $b$ and maximum amplitude $a$, what are the most restrictive values of $V_{DD}$ and $V_{SS}$ for the op-amp such that the output is not distorted?** Assume NO virtual ground and provide answers for both $A_v < 0$ and $A_v > 0$.\n",
    "\n",
    "**3. An inverting amplifier with no reference voltage (non-inverting terminal is connected to GND) is shown in the following figure. Show all of your work.**\n",
    "<img style=\"width: 600px\" src=\"images/inverting_amplifier.png\">\n",
    "- a. Assume the op-amp has a **finite** gain $A$. Derive the amplifier gain $\\frac{V_{out}}{V_{in}}$ in terms of ${R_{in}}$, ${R_{f}}$, and $A$. (Hint: voltage dividers will be useful here.)\n",
    "- b. Assume the op-amp gain is now **infinite**. Using this information, simplify the expression for the amplifier gain you derived in part (a). **Explain why your simplified expression makes sense.**\n",
    "\n",
    "**4. What are the ideal gain and measured gain of the op-amp circuit in Lab 1? Are there any discrepancies between these two values? Why or why not?**"
   ]
  }
 ],
 "metadata": {
  "anaconda-cloud": {},
  "kernelspec": {
   "display_name": "Python 3 (ipykernel)",
   "language": "python",
   "name": "python3"
  },
  "language_info": {
   "codemirror_mode": {
    "name": "ipython",
    "version": 3
   },
   "file_extension": ".py",
   "mimetype": "text/x-python",
   "name": "python",
   "nbconvert_exporter": "python",
   "pygments_lexer": "ipython3",
   "version": "3.9.12"
  },
  "vscode": {
   "interpreter": {
    "hash": "aee8b7b246df8f9039afb4144a1f6fd8d2ca17a180786b69acc140d282b71a49"
   }
  }
 },
 "nbformat": 4,
 "nbformat_minor": 4
}
