{
 "cells": [
  {
   "cell_type": "markdown",
   "metadata": {},
   "source": [
    "# S1XT33N Integration/Final Demo\n",
    "\n",
    "### EECS 16B: Designing Information Devices and Systems II, Spring 2024\n",
    "\n",
    "\n",
    "Written by Nathaniel Mailoa and Emily Naviasky (2016)\n",
    "\n",
    "Updated by Steven Lu and Kaitlyn Chan (2021)\n",
    "\n",
    "Updated by Steven Lu (2022)\n",
    "\n",
    "Updated by Shrey Aeron, Mingyang Wang, Megan Zeng (2022)\n",
    "\n",
    "Updated by Junha Kim, Ryan Ma, Venkata Alapati (2023, 2024)"
   ]
  },
  {
   "cell_type": "markdown",
   "metadata": {},
   "source": [
    "## Table of Contents\n",
    "\n",
    "* [Introduction](#intro)\n",
    "* [Integration](#part1)\n",
    "* [Final Demo](#part2)\n",
    "* [Final Lab Report](#part3)"
   ]
  },
  {
   "cell_type": "markdown",
   "metadata": {},
   "source": [
    "<a id='intro'></a>\n",
    "## Introduction\n",
    "\n",
    "Welcome to the final lab of the semester! S1XT33N has slowly (and painfully) been taking shape and soon, it will be running around causing trouble. All you need to do now is put everything together in a single Arduino program. The objective is to get SIXT33N to go straight far, turn left, go straight for a shorter distance, and turn right when it hears the corresponding command.\n",
    "\n",
    "The checkoff for this phase is the final demo of your project. Please read the Final Demo section of the notebook for more details.\n",
    "\n",
    "Be sure to read the <!-- LINK_LAB_NOTE_9-->[lab note](http://links.eecs16b.org/lab9-note)<!-- LINK_LAB_NOTE_9--> for information on how you will be graded."
   ]
  },
  {
   "cell_type": "markdown",
   "metadata": {},
   "source": [
    "<a id='part1'></a>\n",
    "## <span style=\"color:blue\">Integration</span>"
   ]
  },
  {
   "cell_type": "markdown",
   "metadata": {},
   "source": [
    "Everything you work on in this phase will be in the sketch `integration.ino`, which is your final Arduino code for S1XT33N. As we go through it, fill in sections labelled `YOUR CODE HERE` as instructed.\n"
   ]
  },
  {
   "cell_type": "markdown",
   "metadata": {},
   "source": [
    "### I/O Pins\n",
    "\n",
    "The top of the sketch contains some constant and variable definitions. If you changed any pins in the previous labs from the default values, make sure to change it here as well.\n",
    "\n",
    "### Wheel Control \n",
    "\n",
    "In the main body of the sketch, the code defines 2 modes: `MODE_LISTEN` and `MODE_DRIVE`. In `MODE_DRIVE`, S1XT33N will execute the command specified by the word it successfully classifies during `MODE_LISTEN`.\n",
    "\n",
    "- Copy `CODE BLOCK CON1-6` from `turning.ino`.\n",
    "- Copy over your `TURN_RADIUS` and `delta_reference` function from `turning.ino` into `CODE BLOCK CON4`.\n",
    "    - You may need to change the values inside the `run_times` array to make the car turn 90 degrees. Indices 1 and 3 (the second and fourth values in the array) hold the run times for the left and right turns respectively. Remember that the run times are in ms!\n",
    "\n",
    "### Enveloping and PCA Vectors\n",
    "\n",
    "In `MODE_LISTEN`, the SIXT33N listens to your words and tries to classify the word. The Arduino will repeatedly record some samples and perform the enveloping. If the Arduino sucessfully classifies a word, then it will enter `MODE_DRIVE`.\n",
    "\n",
    "- Directly above `CODE BLOCK PCA1`, if you changed the pin for your filtered mic board signal in a previous lab, make sure you change it here in this `MIC_INPUT` pin definition as well.\n",
    "- Copy `CODE BLOCK PCA1/2` from `classify.ino`.\n",
    "\n",
    "### Classification and Driving\n",
    "\n",
    "Next, go to the section labeled **`CODE BLOCK PCA3`** in the `loop()` function, and copy the code from `classify.ino`. This block should do the PCA projection and classification. There is no need to `Serial.print` values unless you need to debug further.\n",
    "\n",
    "Now, based on the identified commands, write code that makes the S1XT33N behave as desired by setting the `drive_mode` variable and calling `start_drive_mode()` (the skeleton for these two lines is already in the file underneath the check against `EUCLIDEAN_THRESHOLD`). As a reminder, the four commands should make the S1XT33N:\n",
    "- Drive straight far\n",
    "- Turn left\n",
    "- Drive straight close\n",
    "- Turn right"
   ]
  },
  {
   "cell_type": "markdown",
   "metadata": {},
   "source": [
    "That's it! You should be set. Now upload the sketch onto your Arduino and power your car using the mobile configuration (battery power). If you forgot the pins you should attach to the motors and encoders, you can find them in the define statements at the top of the Arduino sketch. If your car doesn't have as much drive as before, you might need to change to fresh batteries - check the voltage of your battery and if it is considerably less than 9V (e.g. below ~7.8V), swap them out for fresh ones.\n",
    "\n",
    "Put your car on the floor and try saying some commands at it! Hopefully, it can classify the commands correctly and move as desired.\n",
    "\n",
    "### Notes / Tips / Reminders\n",
    "- **You may find that you encounter an \"out-of-memory\" error when uploading** - this is because our Arduinos do not have a ton of memory. Try reducing your `SNIPPET_SIZE` (your length) so your vectors aren't quite as long. This may change your classification, but hopefully for the better. It's ok if you get a warning about *low* memory.\n",
    "    - If you end up changing this, you will need to run through the code for the SVD/PCA lab again with your updated values to update your vectors. You may also need to run `classify.ino` again to check the live classification.\n",
    "- Change the values inside the `run_times` array to ensure your S1XT33N turns the proper angle (ideally 90 degrees).\n",
    "- You may have to get relatively close to the mic board for it to pick up your command.\n",
    "- If you're struggling to get a particular command to classify correctly, make sure you're saying the word the same way as when you recorded it. You can try varying how you say the word slightly between runs until you find the \"sweet spot\" and can repeat it reasonably well with accurate classification.\n",
    "\n",
    "Did it work? If not, you might need to tweak your classification parameters. If it did work, time to celebrate (and get checked off)!"
   ]
  },
  {
   "cell_type": "markdown",
   "metadata": {},
   "source": [
    "<a id='part2'></a>\n",
    "## <span style=\"color:blue\">Final Demo</span>"
   ]
  },
  {
   "cell_type": "markdown",
   "metadata": {},
   "source": [
    "### Demo\n",
    "\n",
    "You will be giving a live demonstration of your car's functionality as the checkoff for the Integration lab. In the demo, you will have to:\n",
    "- Set S1XT33N on the ground, and say the commands we tell you to one-by-one.\n",
    "- You are allowed to reposition the car in between the commands if you have trouble crashing into walls.\n",
    "- The checkoff demo cannot be pre-recorded, so please have your car ready when you submit to checkoff!\n",
    "\n",
    "**Please review this <!-- LINK_LAB_NOTE_9-->[lab note](http://links.eecs16b.org/lab9-note)<!-- LINK_LAB_NOTE_9-->. It clearly specifies the exact requirements we expect your car to demonstrate. Make sure your car satisfies all the requirements before submitting a checkoff request for the Integration lab.**"
   ]
  },
  {
   "cell_type": "markdown",
   "metadata": {},
   "source": [
    "<a id='part3'></a>\n",
    "## <span style=\"color:blue\">Final Lab Report</span>"
   ]
  },
  {
   "cell_type": "markdown",
   "metadata": {},
   "source": [
    "The final lab report tests your understanding of EECS 16B Labs 6-8, with an emphasis on conceptual and\n",
    "analytical understanding. It also allows you to look at these labs from a bigger picture and reflect on your design\n",
    "process and choices. All of the final lab report questions have been compiled together [here](http://links.eecs16b.org/final_lab_report). The entire final lab report will be due on **Friday, 05/02**.\n",
    "\n",
    "There are no new questions for Lab 9!"
   ]
  },
  {
   "cell_type": "markdown",
   "metadata": {},
   "source": []
  }
 ],
 "metadata": {
  "anaconda-cloud": {},
  "kernelspec": {
   "display_name": "Python 3 (ipykernel)",
   "language": "python",
   "name": "python3"
  },
  "language_info": {
   "codemirror_mode": {
    "name": "ipython",
    "version": 3
   },
   "file_extension": ".py",
   "mimetype": "text/x-python",
   "name": "python",
   "nbconvert_exporter": "python",
   "pygments_lexer": "ipython3",
   "version": "3.10.6"
  }
 },
 "nbformat": 4,
 "nbformat_minor": 4
}
