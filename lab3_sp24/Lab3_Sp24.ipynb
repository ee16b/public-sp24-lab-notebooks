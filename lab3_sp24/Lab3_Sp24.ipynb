{
 "cells": [
  {
   "cell_type": "markdown",
   "metadata": {},
   "source": [
    "# Hands-on Lab 3: Motion\n",
    "\n",
    "### EECS 16B: Designing Information Devices and Systems II, <!-- TERM_DATE-->Spring 2024<!-- TERM_DATE-->\n",
    "\n",
    "Written by Nathaniel Mailoa and Emily Naviasky (2016)\n",
    "\n",
    "Updated by Peter Schafhalter and Zain Zaidi (2019)\n",
    "\n",
    "Updated by Mia Mirkovic (2020)\n",
    "\n",
    "Updated by Rafael Calleja (2020)\n",
    "\n",
    "Updated by Steven Lu and Kaitlyn Chan (2021)\n",
    "\n",
    "Updated by Steven Lu and Megan Zeng (2022)\n",
    "\n",
    "Updated by Mingyang Wang, Shrey Aeron, and Megan Zeng (2022)\n",
    "\n",
    "Updated by Jessica Fan (2023)\n",
    "\n",
    "Updated by Venkata Alapati, Junha Kim, Ryan Ma (2023, 2024)\n",
    "\n",
    "----"
   ]
  },
  {
   "cell_type": "markdown",
   "metadata": {},
   "source": [
    "\n",
    "# Table of Contents\n",
    "\n",
    "* [Part 0: Introduction](#part0)\n",
    "* [Part 1: Motor Controller Circuits](#part1)\n",
    "* [Part 2: Encoder Circuits](#part2)\n"
   ]
  },
  {
   "cell_type": "markdown",
   "metadata": {},
   "source": [
    "<a id='part0'></a>\n",
    "# <span style=\"color:navy\">Part 0: Introduction</span>\n",
    "-----\n",
    "\n",
    "In the previous lab, you learned how microcontrollers like Arduinos interact with the world via DACs and ADCs. With that knowledge, we can now begin working on our project, which will use the Arduino as its \"brain\" or core. For the rest of this semester, you will be designing S1XT33N, a mischievous little robot who might just do what you want - if you design it correctly. Our end goal is to have S1XT33N listen to your voice commands and execute the corresponding drive command. In this lab, you will build S1XT33N’s legs: the motor control circuits that enable S1XT33N to move around, and the encoder circuits that enable your Arduino to detect how far and fast S1XT33N has moved. You will also be building the 5V regulator, which we will use to power the front-end circuits separately from the power supply so that S1XT33N can move freely on the ground (in Lab 6).\n",
    "\n",
    "## Materials:\n",
    "<!-- LINK_LAB_NOTE_3-->\n",
    "- [Lab Note](https://links.eecs16b.org/lab3-note)<!-- LINK_LAB_NOTE_3-->\n",
    "<!-- LINK_LAB_NOTE_3_EXTRA-->\n",
    "- [Optional Extra Lab Note Reading](https://links.eecs16b.org/lab3-note-extra)<!-- LINK_LAB_NOTE_3_EXTRA --> for after you've completed the lab if you are interested in learning more about BJTs and diodes\n",
    "\n",
    "Review the lab note for a technical review of the concepts covered in lab as well as theoretical connections. **You should read the lab notes before your lab section.** They will be helpful as a reference during section."
   ]
  },
  {
   "cell_type": "markdown",
   "metadata": {},
   "source": [
    "## Pre-Lab\n",
    "\n",
    "Complete the pre-lab assignment before doing the lab. Submit your answers to the Gradescope assignment \"Pre-Lab 3: Motion.\" Please make sure that you submit to the correct assignment. Pre-Lab 3 is due on February 5 at 11:59pm. No late submissions will be accepted.\n"
   ]
  },
  {
   "cell_type": "markdown",
   "metadata": {},
   "source": [
    "## Breadboarding Requirements\n",
    "\n",
    "Clean & planar circuits are now **a requirement to get debugging help from staff and to get checked off.** An example of a planar vs nonplanar circuit can be seen below.\n",
    "\n",
    "|Planar Circuit|Non-Planar Circuit|\n",
    "|:-----:|:-----:|\n",
    "|<img width=\"400px\" height=\"300px\" src=\"images/neatbb.png\">|<img width=\"400px\" height=\"300px\" src=\"images/messybb.png\">|\n",
    "\n",
    "Creating planar circuits will not only help staff assist you better but will also allow you to more easy identify errors in your circuit, simplify debugging, and make your S1XT33N look absolutely stunning! Some tips to help you create planar circuits are:\n",
    "\n",
    "- **Plan Your Circuit:** Before you start placing components on the breadboard, plan your circuit on paper or using circuit design software. This will help you understand the layout and connections needed.\n",
    "\n",
    "- **Use Color-Coding:** Use colored wires or labels to differentiate between power, ground, and signal wires. This makes it easier to trace connections and troubleshoot issues.\n",
    "\n",
    "- **Cut and Bend Leads/Wires Properly:** Trim component leads (legs) and wires to an appropriate length, leaving enough to fit securely into the breadboard. Bend the leads at a right angle to ensure a snug fit.\n",
    "\n",
    "- **Test as You Go:** Don't wait until your entire circuit is assembled to test it. Test sections of the circuit as you add components to catch and fix problems early."
   ]
  },
  {
   "cell_type": "markdown",
   "metadata": {},
   "source": [
    "## Help Request Form\n",
    "\n",
    "Use this [form](https://eecs16b.org/lab-help) to request help in your debugging / conceptual needs. \n"
   ]
  },
  {
   "cell_type": "markdown",
   "metadata": {},
   "source": [
    "## Project Breadboard Layout\n",
    "This lab's motor controller and encoder circuits correspond to the purple sections on the project breadboard layout below, while the 5V regulator circuit corresponds to the teal section. **We strongly recommend that you follow this layout as you build the different circuits for S1XT33N.** In later labs, you will need room for the project circuits currently grayed out. The motor/encoder circuits require the 5V rail, which provides 5V to many of the front-end circuits for this car, and the `Motor 9V Rail`, which provides 9V to the motors. In this lab, the `Motor 9V Rail` and `Regulator 9V Rail` are powered by the power supply while the 5V rail is initially powered by the power supply, then by the 5V voltage regulator in Part 2. In future labs, the `Motor 9V Rail` and `Regulator 9V Rail` will be powered by two separate 9V batteries. **For all parts of the project, make sure to connect the two negative rails for GND and the two positive rails for the 5V rail** so that both sides of the breadboard can easily access the same ground and 5V.\n",
    "<p align=\"center\">\n",
    "<img width=\"700px\" src=\"images/suggested_layout.jpg\">\n",
    "</p>"
   ]
  },
  {
   "cell_type": "markdown",
   "metadata": {},
   "source": [
    "<a id='part1'></a>\n",
    "# <span style=\"color:navy\">Part 1: Motor Controller Circuits</span>\n",
    "\n",
    "-----"
   ]
  },
  {
   "cell_type": "markdown",
   "metadata": {},
   "source": [
    "In this part, we will build the motor controller circuits to give the Arduino control of the motors while the motors are powered by 9V.\n",
    "#### Materials\n",
    "- Breadboard\n",
    "- Power Supply\n",
    "- 2 C2690A NPN BJTs (Bipolar Junction Transistor)\n",
    "- 2 IN4001 Diodes\n",
    "- 2 Motors\n",
    "- 2 1.5 $k\\Omega$ resistors (Brown, Green, Red, Gold)\n",
    "- 1 3-terminal switch\n",
    "- Arduino"
   ]
  },
  {
   "cell_type": "markdown",
   "metadata": {},
   "source": [
    "### 1.1 Set up the rails.\n",
    "\n",
    "#### Tasks:\n",
    "- Connect the two negative rails on the breadboard to use as ground. Connect the two positive rails on the breadboard to use as the 5V rail. If the power rails are split (the colored lines along the positive and negative rails are not continuous), you will need to connect the top and bottom halves of each rail, as discussed in lab 1.\n",
    "\n",
    "- Set the +25V channel on the power supply to **9V** and a **0.4A** current limit, then connect the output to the row labelled **`Motor 9V Rail`** in the project breadboard layout above. You will use the `Motor 9V Rail` to power the motors. Since the motors can each draw 100-200mA of current, we need to increase the limit from our usual 0.1A.\n",
    "\n",
    "At this point, the ground leads of both channels should be connected to one of the negative rails. **When you are not running the circuits, leave the power supply output off** to reduce the risk of damaging your components."
   ]
  },
  {
   "cell_type": "markdown",
   "metadata": {},
   "source": [
    "### 1.2 Build the motor controller circuits.\n",
    "\n",
    "#### Tasks:\n",
    "<p align=\"center\">\n",
    "<img width=\"250px\" src=\"images/motor-drive-with-switch.jpg\">\n",
    "</p>\n",
    "<br>\n",
    "\n",
    "1.  **Construct the circuit above for each wheel using the <a href=\"https://www.mouser.com/datasheet/2/308/1/KSC2690A_D-2314385.pdf\">C2690A</a> NPN BJT on the breadboard**. You will be building this circuit twice, once for the left motor, and once for the right motor. **We strongly recommend you build these circuits in the purple sections on the project breadboard layout above.** See below for the pinouts and diagrams of the different components.\n",
    "    - The pin diagram of the BJT is reproduced below. <span style=\"color:#ba190f\">**Make sure to match the Base, Emitter, and Collector properly to the schematic. Note the diagram shows 3 circles facing up.**</span>\n",
    "\n",
    "    <br>\n",
    "    <p align=\"center\">\n",
    "    <img width=\"250px\" src=\"images/proj-bjt.png\">\n",
    "    </p>\n",
    "    <br>\n",
    "\n",
    "    - A <a href=\"https://www.allaboutcircuits.com/textbook/semiconductors/chpt-3/introduction-to-diodes-and-rectifiers/\">diode</a> is a component that only conducts current one way. This diode is needed because of the inductive characteristics of the motor. If the motor is on and we turn it off, the inductive behavior of the motor generates a back emf that maintains the current and we need a way to dissipate it when the switch is off. The diode provides the pathway to do so. The diagram for the diode is shown below. **Note that the diode has a direction** - be careful which terminal is attached to the 9V power supply. \n",
    "\n",
    "<br>\n",
    "<p align=\"center\">    \n",
    "<img width=\"300px\" src=\"images/proj-diode.png\">\n",
    "</p>\n",
    "<br>\n",
    "\n",
    "2. Connect both your motors to the `Motor 9V Rail` through a switch. You only need **ONE** switch!\n",
    "    - We are using this switch as a way to control whether your motors are powered or not.\n",
    "    - At any given time, two of the three pins (1 and 2 or 2 and 3) below are connected depending on which side the switch is flipped to.\n",
    "    - The orientation of the switch does not matter.\n",
    "\n",
    "    <br>\n",
    "    <p align=\"center\">\n",
    "    <img width=\"300px\" src=\"images/switch.png\">\n",
    "    </p>\n",
    "    <br>\n",
    "    \n",
    "    - Place the switch somewhere fairly central (with respect to the long side) on your project breadboard.\n",
    "    - Connect the `Motor 9V Rail` to `pin 1`.\n",
    "    - Connect the other motor wire (the one not connected to the collector pin of the BJT) of **BOTH** motors to `pin 2`. \n",
    "    - Connect `pin 3` to ground."
   ]
  },
  {
   "cell_type": "markdown",
   "metadata": {},
   "source": [
    "### 1.3 Test the motor controller circuits.\n",
    "\n",
    "#### Uploading Arduino code\n",
    "1. Download **`motor_test.ino`** and open it up in the Arduino IDE. Connect your Arduino to the computer tower using the micro-USB cable.\n",
    "2. Under _Tools -> Board_, make sure the selected board is \"Arduino Leonardo\". Under _Tools -> Port_, make sure the selected port is the port that ends in \"(Arduino Leonardo)\". If this port does not work for uploading, try other available ports.\n",
    "5. Press the upload button (the right pointing arrow, **not** the checkmark) and make sure the terminal says \"Done uploading\". If the upload gets stuck for a very long time (> 20s):\n",
    "    1. Unplug the Arduino, and re-plug it in.\n",
    "    2. Make sure that the Arduino is detected and selected by folowing step 2.\n",
    "    3. Hold down the `RST` button, and then click the upload button. As soon as you see \"Uploading\" in the status bar, release the `RST` button.\n",
    "    4. Profit (it should work now)\n",
    "6. Press the RST button on the Arduino whenever you want to rerun the program. Sometimes, this button doesn't work, so unpower your circuit by turning off the power supplies and then unplugging the Arduino, in that order. Then, do these steps in reverse to restart the circuit.\n",
    "7. If you open up the serial monitor (Tools -> Serial Monitor), make sure to set the specified baud rate in the code. You'll see the baud rate under something like ```Serial.begin(38400)```, where 38400 is the baud rate if it is not defined at the top of the file.\n",
    "\n",
    "#### Tasks:\n",
    "Here, we will be testing each motor circuit **one at a time**.\n",
    "1. Connect the node labeled **<span style=\"color:#ba190f\">Arduino Pin 6</span>** in one of the motor controller circuits to **<span style=\"color:#ba190f\">pin 6</span>** on your Arduino. **Make sure to ground your Arduino** (connect any Arduino GND pin to the negative rail of breadboard)! There should be **no** other connections between your project breadboard and the Arduino aside from pin `6` and GND. Turn on the power supply output.\n",
    "      - If pin `6` is no longer functional, any free pins of `5`, `10`, `11`, or `13` will also work. If you're using one of these other pins, you'll have to update the pin definition at the top of the `motor_test.ino` code to reflect that.\n",
    "2. Upload `motor_test.ino` to your Arduino and hit `RST`.\n",
    "3. Open the Serial Monitor (`CTRL-SHIFT-L` / `CMD-SHIFT-L`). Set the baud rate to **38400**.\n",
    "    As the program runs, you should see the \"Duty Cycle\" reading change in the Serial Monitor. Your motor should speed up as the duty cycle increases, and slow down as it decreases. \n",
    "\n",
    "<span style=\"color:#ba190f\">**4. Repeat for the *other motor circuit*. Make sure that both motors drive as expected. They might not go at the same speed, or start at the same PWM rate - our control scheme will fix that later in the project.**</span>\n",
    "\n",
    "#### Debugging Tips:\n",
    "- The motor is reversible so connect it in any direction for now. If it turns out to go backwards later, just exchange the two wires of the motor.\n",
    "- If one motor is working but the other isn’t, try plugging the nonfunctional one into the functional motor’s motor circuit to isolate if the issue is the motor circuit or the motor. \n",
    "- If you think the motor is the issue, you can try putting 9V across the motor seperate from the motor circuit to see if it moves.\n",
    "- If your motor is not moving, we want to isolate the problem. You can try the following steps. \n",
    "    1. Make sure the switch is on and that the power supply is on. Probe the cathode terminal of the diode— if the switch is on, this should always be at 9V.\n",
    "    2. Ensure the diode and BJT are plugged in facing the right direction.\n",
    "    3. Probing where pin `6` is plugged in with the oscilloscope will allow you to check whether there is a PWM signal varying between 0V and 5V reaching the breadboard. The signal should vary based on the duty cycle printed on the Serial Monitor. If there is no PWM signal, your jumper cable or Arduino pin might be at fault. If you encounter multiple faulty jumper cables, call your TA over.\n",
    "    4. Probe the anode terminal of the diode. When the motors are not moving, this should be at 9V (providing 0V across the motor). As the duty cycle changes, you should see this voltage change, causing the motors to move. If this is not the case, your BJT circuit or diode may be broken."
   ]
  },
  {
   "cell_type": "markdown",
   "metadata": {},
   "source": [
    "# <span style=\"color:red\">**STOP HERE AND FOLLOW THE NEXT TWO INSTRUCTIONS !!!**\n",
    "\n",
    "# <span style=\"color:red\">**IMPORTANT: The car's orientation**\n",
    "You should have the car assembled. The castor wheel (small white wheel) is the back of the car. **When the car is moving, the castor wheel should always be at the back of the car.**\n",
    "\n",
    "# <span style=\"color:red\">**IMPORTANT: Secure castor wheel**\n",
    "Future labs require data collection that will be used to control the car in later parts of the project. Therefore, it is very important that the conditions in your environments for data collection and controls be matched as closely as possible. Otherwise, the model and data you use to control your car later will be inaccurate. **You MUST secure the castor wheel NOW for the rest of the project with either tape or wires or zip ties.** The wheel should be aligned straight with the car and the sides of the wheel and metal parts need to be restrained so that the wheel only rotates and does not spin in any other directions."
   ]
  },
  {
   "cell_type": "markdown",
   "metadata": {},
   "source": [
    "<a id='part3'></a>\n",
    "# <span style=\"color:navy\">Part 2: Voltage Regulators</span>\n",
    "\n",
    "-----"
   ]
  },
  {
   "cell_type": "markdown",
   "metadata": {
    "jp-MarkdownHeadingCollapsed": true,
    "tags": []
   },
   "source": [
    "We will first build the regulator circuits to enable portable powering of our circuits because we only have 9V batteries, but we need access to 5V for our circuits to work properly. In our kits, we have provided you 2 regulator components that will work so long as you build the necessary circuits around them: the 5V regulator and 3.3V regulator. In 16B, we **will NOT be using the 3.3V regulator**, so be careful of which one you use to build your 5V, as the two are distinct!\n",
    "\n",
    "### 2.0 Before you begin\n",
    "\n",
    "**Before you start building your regulators, there are a few MANDATORY project breadboard setup steps you must do.**\n",
    "1. Your project breadboard's two negative rails must be connected together via a wire. These negative rails will be used for GND and GND only! **NEVER connect any non-GND signals to the negative rails. That is the quickest way to ruin your circuits.**\n",
    "2. Your project breadboard's two positive rails must be connected together via a wire. These positive rails will be used as a 5V rail and 5V only! **NEVER connect any other voltages to the positive rails. That is also a surefire way to ruin your circuits.**\n",
    "3. **Turn off the output of your power supply whenever you're building or moving something around in your circuit, and when you're done testing your regulators.** This minimizes the chance of you causing a short between voltages, which can destroy your circuit and breadboard.\n",
    "4. <span style=\"color:red\">**DISCONNECT YOUR POWER SUPPLY FROM THE 5V RAILS**.</span>\n",
    "\n",
    "### 2.1 Build your 5V regulator\n",
    "#### Materials\n",
    "- LM340T5 5V Regulator\n",
    "- 2x 100nF capacitors (code: 104)\n",
    "\n",
    "As a helpful tip throughout your labs: **KEEP YOUR CIRCUIT NEAT!** This means you should be reasonably minimizing the space that wires and other electrical components take up on your project breadboard! Please refer to the diagram [above](#Project-Breadboard-Layout) for our layout recommendations.\n",
    "\n",
    "**Build the following circuit with the LM340T5 (5V) regulator.** Top view means that the regulator lays flat on your hand with the metal tab touching your palm. **Note that the metal tab on the 5V regulator does not have notches and is thicker.** Additionally, the model number should be printed on the regulator (though faintly).\n",
    "\n",
    "The two capacitors serve as [decoupling capacitors](https://en.wikipedia.org/wiki/Decoupling_capacitor) to help reduce high frequency noise and stabilize the voltage fluctuations on the rails.\n",
    "\n",
    "|Front View:|Pinout:|Circuit:|\n",
    "|:-------:|:-----:|:---------------:|\n",
    "|<img width=\"100px\" src=\"images/5v.png\">|<img width=\"300px\" src=\"images/LM340T5_po.png\">|<img width=\"400px\" src=\"images/LM340T5_circuit_diagram.png\">| \n",
    "\n",
    "### 2.2 Test your 5V regulator\n",
    "\n",
    "**Since we don't have unlimited 9V batteries, we will reserve usage of the batteries for when we need the car to drive around. For this lab, use the DC power supply at your lab station to generate the 9V that you will connect to the `Regulator 9V Rail` instead.**\n",
    "\n",
    "<span style=\"color:red;font-weight:bold\"> IMPORTANT NOTE:</span> If at any point<br>\n",
    "       1) Your regulators become extremely hot to the touch<br>\n",
    "       2) **The power supply is reaching the current limit**, or<br>\n",
    "       3) The output voltage of the power supply is diplaying a number much lower than 9 volts<br>\n",
    "    **IMMEDIATELY turn off the output of your DC power supply!** This is a sign that something is wrong in your regulator circuit (i.e. an unintentional short caused by some components' legs touching) and you should debug it before trying again.\n",
    "\n",
    "1. Set up your DC power supply to output 9V using the +25V channel. **Remember to set the current limit to 0.1A**, rather than 0.4A, which we set for the motors!\n",
    "\n",
    "2. Plug the positive terminal of the channel into a dedicated row on your project breadboard for the 9V for your regulators. In the suggested layout, it is the row labeled `Regulator 9V Rail`. **<span style=\"color:red\">This is different from the row you designated as the 9V rail for your motors (`Motor 9V Rail`)!</span>**\n",
    "    - We differentiate between the two rows because in future labs, you will be using 2 separate batteries to power your circuits: one for your motors, and one for your regulators. We do this to decouple the motors' power source from the source that the rest of your circuits use.\n",
    "\n",
    "3. Plug the negative terminal of the channel into your GND rail. **This MUST be one of the two negative rails on your project breadboard, which MUST be connected together with a wire!**\n",
    "\n",
    "4. Connect the output of your 5V regulator to the positive rail, which is labeled as `5V Rail` in the suggested layout. **<span style=\"color:red\">Before doing this step, make sure the power supply is no longer supplying 5V to the positive rails.</span>**\n",
    "\n",
    "5. Connect the input of your 5V regulator to your dedicated `Regulator 9V Rail`.\n",
    "\n",
    "6. Using your oscilloscope or multimeter, measure the DC voltage of the `5V Rail` and verify that it is indeed 5V.\n",
    "    - You probably won't see that the output is exactly 5V due to component imperfections, but it's fine if the output is close enough (between ~4.8V and ~5.2V).\n",
    "    - **Do not proceed unless you have 5V on your rails**. Your circuit should be powered like this from the power supply: \n",
    "<p align=\"center\">\n",
    "<img width=\"800px\" src=\"images/power-connections.jpg\">\n",
    "</p>\n",
    "\n",
    "We will be using 5V to power the circuits on the breadboard!\n",
    "\n",
    "\n",
    "\n",
    "#### Additional Notes/Tips:\n",
    "- **Make sure none of your components' legs are touching each other!** This is one of the most common regulator circuit bugs. Trim down your components so that the risk of this happening in the future is small.\n"
   ]
  },
  {
   "cell_type": "markdown",
   "metadata": {},
   "source": [
    "<a id='part2'></a>\n",
    "# <span style=\"color:navy\">Part 3: Encoder Circuits</span>\n",
    "\n",
    "-----"
   ]
  },
  {
   "cell_type": "markdown",
   "metadata": {},
   "source": [
    "In later labs, we will have S1XT33N drive along different predefined paths using control. This requires being able to measure the distance travelled by each wheel within a specified timeframe so that the Arduino can adjust for differences between the wheels, which is what the encoders and their associated circuits are used for.\n",
    "\n",
    "### 3.1: Installing the Encoders\n",
    "\n",
    "#### Materials: \n",
    "- 2 encoders (aka photointerrupter modules, shown below)\n",
    "- 8 jumper wires\n",
    "- 2 $1k\\Omega$ resistors (Brown, Black, Red, Gold)\n",
    "- 2 $2k\\Omega$ resistors (Red, Black, Red, Gold)\n",
    "- 2 10nF capacitors\n",
    "- Arduino + USB cable\n",
    "\n",
    "#### Before starting:\n",
    "- Make sure the power supply is only supplying 9V to the **9V Motor Rail** and the **9V Regulator Rail**\n",
    "\n",
    "#### Tasks: \n",
    "\n",
    "**1. Put the encoders in their slots as shown below.**  \n",
    "<p align=\"center\">\n",
    "<img width=\"400px\" src=\"images/proj-car-encoder1.jpg\">\n",
    "</p>\n",
    "\n",
    "**2. Connect the encoders to the project breadboard and Arduino as follows:**\n",
    "* Use 4 jumper wires per encoder. 3 will connect from the encoder to your project breadboard, 1 will connect from your breadboard to your Arduino. You should **twist or braid all three wires from the encoder to the breadboard together** - this will help shield the signal wire from external noise sources (think about why this may be the case).\n",
    "* Connect the 'G' or 'Gnd' (ground) pins to ground on your breadboard.\n",
    "* Connect the 'V' or 'Vcc' (voltage) pins to the 5V rail of your breadboard.\n",
    "* For each of your 'S' or 'out' (signal) pins or : \n",
    "    - Build a voltage divider, as shown in the circuit below, to reduce the encoder output voltage to 3-3.5V. **This circuit should also be built in the corresponding purple motor/encoder circuit section of the project breadboard layout.**  \n",
    "    <p align=\"center\">\n",
    "    <img width=\"300px\" src=\"images/encoders.png\">\n",
    "    </p>\n",
    "    - Connect the encoder signal pin to the node labelled **<span style=\"color:#ba190f\">To 'S' pin</span>**.  \n",
    "* Connect the output (between the two resistors) of the left voltage divider to the Arduino pin `3` and the output (between the two resistors) of the right voltage divider to pin `2`.\n",
    "    - If these pins are no longer functional, pin `7` will also work. If you're using another pin, you'll have to update the pin definition at the top of the `encoder_test_0_ticks.ino` code to reflect that."
   ]
  },
  {
   "cell_type": "markdown",
   "metadata": {},
   "source": [
    "### 3.2: Encoder Verification\n",
    "\n",
    "In general, there are two major types of error in sensing the car's trajectory. The first is noise in the sensor signals. The second is from mechanical differences between the two sides of the car.\n",
    "\n",
    "In this section we will test for and fix the first type of noise. The mechanical type primarily affects performance over long distances, which we will compensate for  after implementing closed-loop control in Lab 7.\n",
    "\n",
    "\n",
    "#### Materials:\n",
    "- Arduino + USB cable\n",
    "- Car with encoders and motors installed\n",
    "- 2 plastic encoder wheels (black plastic wheel with lots of rectangular holes)\n",
    "\n",
    "#### Tasks: \n",
    "1. Connect the Arduino's USB.\n",
    "2. Make sure one of the ground pins on the Arduino is connected to the ground rail of your project breadboard.\n",
    "3. **Connect the input resistor of the left motor's driver circuit to pin `6` and the input resistor of the right motor's driver circuit to pin `5`.** The input resistor is the 1.5k resistor in each motor controller circuit. The Arduino pin connects to the end not connected to the base pin of the BJT.\n",
    "4. Turn on the power supply output. <span style=\"color:red;font-weight:bold\">Change the current limit back to 0.4A to power the motors.</span> **If your encoders are powered properly, the LEDs on each one should blink when you pass something through the encoders or turn the wheels.**\n",
    "5. If you haven't already, attach the encoder wheels as shown below.\n",
    "    - If it is on, make sure to remove the paper sticker from your car frame if there is one (yes, it does come off) before you attach the encoders.\n",
    "    - If some of the holes on the encoder wheel were not fully cut out, use a screwdriver to push the material out.  \n",
    "<p align=\"center\">\n",
    "<img width=\"400px\" src=\"images/proj-car-encoder2.jpg\">\n",
    "</p>\n",
    "\n",
    "6. Pick up your car, then upload **`encoder_test_0_ticks.ino`** to the Arduino.\n",
    "7. Open the serial monitor.\n",
    "8. **Set the baud rate to `38400`**.\n",
    "9. Follow the instructions on the serial monitor.\n",
    "    - **Your car wheels are going to move. Make sure that you are still holding the car above the table/ground. Don't let your car jump off the table.**\n",
    "    - The test will conduct 4 phases: both wheels at rest, only left wheel driving, only right wheel driving, and both wheels driving.\n",
    "    - If your encoders are functioning properly, the serial monitor should print \"Failure if encoder wheels are off. Success if encoder wheels are on.\" after each phase.\n",
    "    - This diagnostics message will be followed up by a long and repeating string of the actual values measured during the duration of the program. If you want to look at just the encoder diagnostics, make sure to untick `Autoscroll` in the bottom left of the Serial Monitor window.\n",
    "    - If the actual values measured are noisy (e.g. there are non-zero readings on the right wheel when only the left wheel is turning, or unusually high, in the thousands), **you may need to add the 10nF denoising capacitors to your encoder circuits**. Disconnect the ground end of your 2k resistors, and place them in series with one capacitor each. The other end of each capacitor will go to ground.\n",
    "\n",
    "#### Debugging Tips:\n",
    "- If your `encoder_test_0_ticks.ino` test is not passing, there could be several issues:\n",
    "    1. Ensure that your encoders are turned on by turning the wheels by hand **slowly** with the encoder wheels on. The red encoder lights should flash. Additionally, the signal from the encoder `S` pin should alternate between 0V when the light is on and 5V when the light is off. If the light stays off or there is no output from the `S` pin, ensure that the encoder pin `V` is receiving 5V and `G` is plugged into GND by probing your rails. Ensure your encoder wheels are on. If this doesn't work or the lights only stay on, it could be that your encoder is broken or your jumper wires are faulty.\n",
    "    3. If the above is not working, it is likely your jumper wire or Arduino pin is the issue. If you encounter multiple faulty jumper cables, call your TA over."
   ]
  },
  {
   "cell_type": "markdown",
   "metadata": {},
   "source": [
    "<a id='part4'></a>\n",
    "# <span style=\"color:navy\">Part 4: Midterm Lab Report Questions</span>\n",
    "-----"
   ]
  },
  {
   "cell_type": "markdown",
   "metadata": {},
   "source": [
    "The midterm lab report tests your understanding of EECS 16B Labs 1-5, with an emphasis on conceptual and\n",
    "analytical understanding. It also allows you to look at these labs from a bigger picture and reflect on your design\n",
    "process and choices. We will release the lab report questions in a compiled file about a week before the deadline, along with a LaTeX template. The questions will not change from the ones you've already seen, so we recommend you keep  The entire midterm lab report will be due on **Monday, 3/6**."
   ]
  },
  {
   "cell_type": "markdown",
   "metadata": {},
   "source": [
    "## Questions\n",
    "\n",
    "**Summary**\n",
    "\n",
    "- Give a summary in your own words of what you did in this lab. Possible details to include: overview of the lab’s objective, new components used, issues you encountered, etc. Details NOT to include: how you left your car at home, forgot to enable high-Z mode on your function generator, etc.\n",
    "\n",
    "**1. What is a PWM signal? What does duty cycle mean for a PWM signal? If we can control a digital signal between 0V and 5V, what will the average voltage of the PWM signal be if the duty cycle is 75%?**\n",
    "\n",
    "\n",
    "**2. The NPN Bipolar Junction Transistor (BJT) serves a very important purpose in our motor controller circuits.**\n",
    "- a. Describe the function of the BJT.\n",
    "- b. In your own words, explain the model of the NPN BJT in the ON mode from the lab note.\n",
    "- c. In your own words, explain the model of the NPN BJT in the OFF mode from the lab note.\n",
    "\n",
    "**3. The following sub-problems will check for your understanding of the circuits implemented in this lab.**\n",
    "- a. Describe the function of the resistor in the motor circuit that is connected to the Arduino. What will happen to the rotation speed of the motor when the value of the resistor increases? What will happen if it decreases?\n",
    "- b. What is the function of the diode? Why do we place it in parallel with the motor?\n",
    "- c. How are the encoders used to measure velocity? Say we swap your encoder wheels to some with increased cutouts. Would the velocity calculated by the Arduino be faster, slower, or be the same as your actual velocity?\n",
    "\n",
    "\n"
   ]
  }
 ],
 "metadata": {
  "anaconda-cloud": {},
  "kernelspec": {
   "display_name": "Python 3 (ipykernel)",
   "language": "python",
   "name": "python3"
  },
  "language_info": {
   "codemirror_mode": {
    "name": "ipython",
    "version": 3
   },
   "file_extension": ".py",
   "mimetype": "text/x-python",
   "name": "python",
   "nbconvert_exporter": "python",
   "pygments_lexer": "ipython3",
   "version": "3.10.6"
  },
  "vscode": {
   "interpreter": {
    "hash": "aee8b7b246df8f9039afb4144a1f6fd8d2ca17a180786b69acc140d282b71a49"
   }
  }
 },
 "nbformat": 4,
 "nbformat_minor": 4
}
